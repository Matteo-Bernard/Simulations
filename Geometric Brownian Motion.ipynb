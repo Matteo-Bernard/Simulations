{
 "cells": [
  {
   "cell_type": "code",
   "execution_count": 1,
   "metadata": {},
   "outputs": [],
   "source": [
    "import numpy as np\n",
    "import pandas as pd\n",
    "import ipywidgets as widgets\n",
    "from IPython.display import display"
   ]
  },
  {
   "cell_type": "code",
   "execution_count": 2,
   "metadata": {},
   "outputs": [],
   "source": [
    "def gbm(n_years = 10, n_scenarios=1000, mu=0.07, sigma=0.15, steps_per_year=12, s_0=100.0, prices=True):\n",
    "    \"\"\"\n",
    "    Evolution of Geometric Brownian Motion trajectories, such as for Stock Prices through Monte Carlo\n",
    "    :param n_years:  The number of years to generate data for\n",
    "    :param n_paths: The number of scenarios/trajectories\n",
    "    :param mu: Annualized Drift, e.g. Market Return\n",
    "    :param sigma: Annualized Volatility\n",
    "    :param steps_per_year: granularity of the simulation\n",
    "    :param s_0: initial value\n",
    "    :return: a numpy array of n_paths columns and n_years*steps_per_year rows\n",
    "    \"\"\"\n",
    "    # Derive per-step Model Parameters from User Specifications\n",
    "    dt = 1/steps_per_year\n",
    "    n_steps = int(n_years*steps_per_year) + 1\n",
    "    # the standard way ...\n",
    "    # rets_plus_1 = np.random.normal(loc=mu*dt+1, scale=sigma*np.sqrt(dt), size=(n_steps, n_scenarios))\n",
    "    # without discretization error ...\n",
    "    rets_plus_1 = np.random.normal(loc=(1+mu)**dt, scale=(sigma*np.sqrt(dt)), size=(n_steps, n_scenarios))\n",
    "    rets_plus_1[0] = 1\n",
    "    ret_val = s_0*pd.DataFrame(rets_plus_1).cumprod() if prices else rets_plus_1-1\n",
    "    return ret_val"
   ]
  },
  {
   "cell_type": "code",
   "execution_count": 3,
   "metadata": {},
   "outputs": [],
   "source": [
    "def show_gbm(n_scenario, returns, volatility, capital, n_years):\n",
    "    \"\"\"\n",
    "    Draw the results of a stock price evolution under a Geometric Brownian Motion model\n",
    "    \"\"\"\n",
    "    prices = gbm(\n",
    "        n_scenarios=n_scenario,\n",
    "        mu=returns, \n",
    "        sigma=volatility, \n",
    "        s_0=capital, \n",
    "        n_years=n_years\n",
    "    )\n",
    "    ax = prices.plot(legend=False, color=\"indianred\", alpha = 0.5, linewidth=2, figsize=(12,6))\n",
    "    ax.axhline(y=capital, ls=\":\", color=\"black\")\n",
    "    # draw a dot at the origin\n",
    "    ax.plot(0,capital, marker='o',color='darkred', alpha=0.2)"
   ]
  },
  {
   "cell_type": "code",
   "execution_count": 4,
   "metadata": {},
   "outputs": [
    {
     "data": {
      "application/vnd.jupyter.widget-view+json": {
       "model_id": "46159c13e2334797844a8ac13f6f8d4f",
       "version_major": 2,
       "version_minor": 0
      },
      "text/plain": [
       "interactive(children=(IntSlider(value=1, description='n_scenario', max=1000, min=1), FloatSlider(value=0.1, de…"
      ]
     },
     "metadata": {},
     "output_type": "display_data"
    }
   ],
   "source": [
    "gbm_controls = widgets.interactive(\n",
    "    show_gbm, \n",
    "    n_scenario=widgets.IntSlider(min=1, max=1000, step=1, value=1), \n",
    "    returns=(0., +.2,.01),\n",
    "    volatility=(0, .3, .01),\n",
    "    capital=(100,10000,100),\n",
    "    n_years=(1,25,1)\n",
    ")\n",
    "\n",
    "display(gbm_controls)"
   ]
  },
  {
   "cell_type": "code",
   "execution_count": null,
   "metadata": {},
   "outputs": [],
   "source": []
  }
 ],
 "metadata": {
  "kernelspec": {
   "display_name": "base",
   "language": "python",
   "name": "python3"
  },
  "language_info": {
   "codemirror_mode": {
    "name": "ipython",
    "version": 3
   },
   "file_extension": ".py",
   "mimetype": "text/x-python",
   "name": "python",
   "nbconvert_exporter": "python",
   "pygments_lexer": "ipython3",
   "version": "3.9.7"
  },
  "orig_nbformat": 4
 },
 "nbformat": 4,
 "nbformat_minor": 2
}
